{
 "cells": [
  {
   "cell_type": "code",
   "execution_count": 168,
   "metadata": {},
   "outputs": [],
   "source": [
    "import math\n",
    "import pandas as pd\n",
    "import numpy as np\n",
    "import matplotlib.pyplot as plt\n",
    "from IPython.display import display\n",
    "import math\n",
    "\n",
    "def separador():\n",
    "    print(\"-------------------------------------------------------------------------------------------------------------------\")"
   ]
  },
  {
   "cell_type": "code",
   "execution_count": 169,
   "metadata": {},
   "outputs": [],
   "source": [
    "#le arquibo com tempos obtidos de experimentos\n",
    "data = pd.read_csv(\"../DADOS/tempos.csv\")"
   ]
  },
  {
   "cell_type": "code",
   "execution_count": 170,
   "metadata": {},
   "outputs": [
    {
     "name": "stdout",
     "output_type": "stream",
     "text": [
      "     Pessoa Tipo_mov  Travessia  10m_1  10m_2  20m_1  20m_2  30m_1  30m_2\n",
      "0   Matheus      MRU          1   7.10   7.64  14.47  14.99  21.53  22.01\n",
      "1   Matheus      MRU          2   7.53   6.27  14.11  13.11  21.30  20.28\n",
      "2   Matheus      MRU          3   7.30   7.21  15.18  14.33  21.49  21.48\n",
      "3   Gabriel      MRU          1   8.35   8.07  15.78  15.33  22.76  22.57\n",
      "4   Gabriel      MRU          2   8.51   7.91  15.28  14.78  22.31  21.79\n",
      "5   Gabriel      MRU          3   8.31   8.38  16.21  16.45  23.44  23.74\n",
      "6      Kazu      MRU          1   6.79   6.57  12.98  12.87  19.21  19.00\n",
      "7      Kazu      MRU          2   6.85   6.97  13.22  12.87  19.44  19.52\n",
      "8      Kazu      MRU          3   7.01   6.97  13.37  13.60  19.80  20.23\n",
      "9   Matheus      MUV          1   9.39   9.00  13.41  13.54  16.76  16.95\n",
      "10  Matheus      MUV          2   8.77   8.91  12.92  13.26  16.73  16.76\n",
      "11  Matheus      MUV          3   9.74  10.07  13.82  14.12  17.12  17.35\n",
      "12  Gabriel      MUV          1   7.72   8.23  11.94  12.43  15.43  15.95\n",
      "13  Gabriel      MUV          2   7.72   7.71  11.88  11.71  15.11  14.97\n",
      "14  Gabriel      MUV          3   6.93   7.24  11.12  11.37  14.63  14.96\n",
      "15     Kazu      MUV          1   6.29   6.79  10.17  10.63  13.30  13.94\n",
      "16     Kazu      MUV          2   6.74   6.69  10.37  10.53  13.59  13.70\n",
      "17     Kazu      MUV          3   6.61   5.86  10.37   9.83  13.67  12.89\n"
     ]
    }
   ],
   "source": [
    "print(data)"
   ]
  },
  {
   "cell_type": "code",
   "execution_count": 171,
   "metadata": {},
   "outputs": [
    {
     "name": "stdout",
     "output_type": "stream",
     "text": [
      "     Pessoa Tipo_mov  Travessia    10m     20m     30m\n",
      "0   Matheus      MRU          1  7.370  14.730  21.770\n",
      "1   Matheus      MRU          2  6.900  13.610  20.790\n",
      "2   Matheus      MRU          3  7.255  14.755  21.485\n",
      "3   Gabriel      MRU          1  8.210  15.555  22.665\n",
      "4   Gabriel      MRU          2  8.210  15.030  22.050\n",
      "5   Gabriel      MRU          3  8.345  16.330  23.590\n",
      "6      Kazu      MRU          1  6.680  12.925  19.105\n",
      "7      Kazu      MRU          2  6.910  13.045  19.480\n",
      "8      Kazu      MRU          3  6.990  13.485  20.015\n",
      "9   Matheus      MUV          1  9.195  13.475  16.855\n",
      "10  Matheus      MUV          2  8.840  13.090  16.745\n",
      "11  Matheus      MUV          3  9.905  13.970  17.235\n",
      "12  Gabriel      MUV          1  7.975  12.185  15.690\n",
      "13  Gabriel      MUV          2  7.715  11.795  15.040\n",
      "14  Gabriel      MUV          3  7.085  11.245  14.795\n",
      "15     Kazu      MUV          1  6.540  10.400  13.620\n",
      "16     Kazu      MUV          2  6.715  10.450  13.645\n",
      "17     Kazu      MUV          3  6.235  10.100  13.280\n"
     ]
    }
   ],
   "source": [
    "#calculates the average of the two time measurements\n",
    "data_fixed = data.copy()\n",
    "#selects the three first columns\n",
    "data_fixed = data_fixed.loc[:, 'Pessoa' : 'Travessia']\n",
    "#adds columns containing the time values\n",
    "for i in range(1, 4):\n",
    "    data_fixed[str(i) + \"0m\"] = (data.iloc[:, (i * 2) + 1] + data.iloc[:, (i * 2) + 2]) / 2\n",
    "\n",
    "print(data_fixed)"
   ]
  },
  {
   "cell_type": "code",
   "execution_count": 172,
   "metadata": {},
   "outputs": [],
   "source": [
    "#calcules the average speed\n",
    "# data_fixed[\"Velocidade_media\"] = (30.0 / data_fixed[\"30m\"])\n",
    "# print(data_fixed)"
   ]
  },
  {
   "cell_type": "code",
   "execution_count": 173,
   "metadata": {},
   "outputs": [
    {
     "name": "stdout",
     "output_type": "stream",
     "text": [
      "      10m     20m     30m\n",
      "0   7.370  14.730  21.770\n",
      "1   6.900  13.610  20.790\n",
      "2   7.255  14.755  21.485\n",
      "3   8.210  15.555  22.665\n",
      "4   8.210  15.030  22.050\n",
      "5   8.345  16.330  23.590\n",
      "6   6.680  12.925  19.105\n",
      "7   6.910  13.045  19.480\n",
      "8   6.990  13.485  20.015\n",
      "9   9.195  13.475  16.855\n",
      "10  8.840  13.090  16.745\n",
      "11  9.905  13.970  17.235\n",
      "12  7.975  12.185  15.690\n",
      "13  7.715  11.795  15.040\n",
      "14  7.085  11.245  14.795\n",
      "15  6.540  10.400  13.620\n",
      "16  6.715  10.450  13.645\n",
      "17  6.235  10.100  13.280\n"
     ]
    }
   ],
   "source": [
    "#simplifies data storing\n",
    "\n",
    "#saves only the speeds\n",
    "v = data_fixed.loc[:, \"10m\" : \"30m\"]\n",
    "#saves only the people names\n",
    "pessoas = v_mru[\"Pessoa\"].unique()\n",
    "print(v)"
   ]
  },
  {
   "cell_type": "code",
   "execution_count": 174,
   "metadata": {},
   "outputs": [
    {
     "name": "stdout",
     "output_type": "stream",
     "text": [
      "    Pessoa Tipo_mov  Travessia    10m     20m     30m\n",
      "0  Matheus      MRU          1  7.370  14.730  21.770\n",
      "1  Matheus      MRU          2  6.900  13.610  20.790\n",
      "2  Matheus      MRU          3  7.255  14.755  21.485\n",
      "3  Gabriel      MRU          1  8.210  15.555  22.665\n",
      "4  Gabriel      MRU          2  8.210  15.030  22.050\n",
      "5  Gabriel      MRU          3  8.345  16.330  23.590\n",
      "6     Kazu      MRU          1  6.680  12.925  19.105\n",
      "7     Kazu      MRU          2  6.910  13.045  19.480\n",
      "8     Kazu      MRU          3  6.990  13.485  20.015\n",
      "-------------------------------------------------------------------------------------------------------------------\n",
      "           10m        20m        30m  Velocidade_media  10m_calc   20m_calc  \\\n",
      "Matheus  7.175  14.365000  21.348333          1.405262  7.116111  14.232222   \n",
      "Gabriel  8.255  15.638333  22.768333          1.317620  7.589444  15.178889   \n",
      "Kazu     6.860  13.151667  19.533333          1.535836  6.511111  13.022222   \n",
      "Média    7.430  14.385000  21.216667          1.413983  7.072222  14.144444   \n",
      "\n",
      "          30m_calc  \n",
      "Matheus  21.348333  \n",
      "Gabriel  22.768333  \n",
      "Kazu     19.533333  \n",
      "Média    21.216667  \n"
     ]
    }
   ],
   "source": [
    "#selects the time calculations for the uniform movement\n",
    "v_mru = data_fixed[data_fixed.Tipo_mov == \"MRU\"]\n",
    "data_unique = pd.DataFrame()\n",
    "print(v_mru)\n",
    "separador()\n",
    "\n",
    "#calculates the average of each person\n",
    "for p in pessoas:\n",
    "    dtf = v_mru[v_mru.Pessoa == p].loc[:, \"10m\" : \"30m\"].T\n",
    "    data_unique[p] = (dtf.iloc[:, 0] + dtf.iloc[:, 1] + dtf.iloc[:, 2])/3.0\n",
    "#adds the average speed to the time calculations\n",
    "data_unique[\"Média\"] = (data_unique.iloc[:, 0] + data_unique.iloc[:, 1] + data_unique.iloc[:, 2]) / 3.0\n",
    "data_unique = data_unique.T\n",
    "\n",
    "#adds the ideal average time for each 10m space\n",
    "data_unique[\"Velocidade_media\"] = 30.0 / data_unique[\"30m\"]\n",
    "data_unique[\"10m_calc\"] = 10 / data_unique[\"Velocidade_media\"]\n",
    "data_unique[\"20m_calc\"] = 20 / data_unique[\"Velocidade_media\"]\n",
    "data_unique[\"30m_calc\"] = 30 / data_unique[\"Velocidade_media\"]\n",
    "print(data_unique)\n"
   ]
  },
  {
   "cell_type": "code",
   "execution_count": 180,
   "metadata": {},
   "outputs": [
    {
     "name": "stdout",
     "output_type": "stream",
     "text": [
      "[0.         1.97060276 2.66479469 3.06097367 0.34022371 0.\n",
      " 1.96236138 2.65550856 3.06097367]\n",
      "[0.         1.97060276 2.66479469 3.06097367]\n",
      "[0.         1.96236138 2.65550856 3.06097367]\n"
     ]
    }
   ],
   "source": [
    "#gets data for each person\n",
    "du_copy =  data_unique.copy()\n",
    "matheus_data = du_copy.loc[\"Matheus\"].values\n",
    "gabriel_data = du_copy.loc[\"Gabriel\"].values\n",
    "kazu_data = du_copy.loc[\"Kazu\"].values\n",
    "#auxiliary data\n",
    "xRange = [0,10,20,30]\n",
    "\n",
    "#changes to logarithmic scale\n",
    "for i in range (len(matheus_data)):\n",
    "    matheus_data[i] = math.log(matheus_data[i])\n",
    "    gabriel_data[i] = math.log(gabriel_data[i])\n",
    "    kazu_data[i] = math.log(kazu_data[i])\n",
    "#adds 0s to fit plotting\n",
    "matheus_data = np.insert(matheus_data, 0, 0)\n",
    "gabriel_data = np.insert(gabriel_data, 0, 0)\n",
    "kazu_data = np.insert(kazu_data, 0, 0)\n",
    "matheus_data = np.insert(matheus_data, 5, 0)\n",
    "gabriel_data = np.insert(gabriel_data, 5, 0)\n",
    "kazu_data = np.insert(kazu_data, 5, 0)\n",
    "print(matheus_data)\n",
    "print(matheus_data[0:4])\n",
    "print(matheus_data[5:9])"
   ]
  },
  {
   "cell_type": "code",
   "execution_count": 181,
   "metadata": {},
   "outputs": [
    {
     "data": {
      "text/plain": [
       "[Text(0, 0.5, 'Time'), Text(0.5, 0, 'Position'), Text(0.5, 1.0, 'Kazu')]"
      ]
     },
     "execution_count": 181,
     "metadata": {},
     "output_type": "execute_result"
    },
    {
     "data": {
      "image/png": "[encoded data removed]",
      "text/plain": [
       "<Figure size 432x288 with 1 Axes>"
      ]
     },
     "metadata": {
      "needs_background": "light"
     },
     "output_type": "display_data"
    },
    {
     "data": {
      "image/png": "[encoded data removed]",
      "text/plain": [
       "<Figure size 432x288 with 1 Axes>"
      ]
     },
     "metadata": {
      "needs_background": "light"
     },
     "output_type": "display_data"
    },
    {
     "data": {
      "image/png": "[encoded data removed]",
      "text/plain": [
       "<Figure size 432x288 with 1 Axes>"
      ]
     },
     "metadata": {
      "needs_background": "light"
     },
     "output_type": "display_data"
    }
   ],
   "source": [
    "#plotar graficos\n",
    "\n",
    "#plotar grafico Matheus\n",
    "plt.figure(1)\n",
    "m_plt = plt.subplot()\n",
    "#draws actual values\n",
    "m_plt.plot(xRange, matheus_data[0:4])\n",
    "#draws uniform values\n",
    "m_plt.plot(xRange, matheus_data[5:9])\n",
    "m_plt.set(ylabel = 'Time', xlabel = 'Position', title = \"Matheus\")\n",
    "#plotar grafico Gabriel\n",
    "plt.figure(2)\n",
    "g_plt = plt.subplot()\n",
    "g_plt.plot(xRange, gabriel_data[0:4])\n",
    "g_plt.set(ylabel = 'Time', xlabel = 'Position', title = \"Gabriel\")\n",
    "#plotar grafico Kazu\n",
    "plt.figure(3)\n",
    "k_plt = plt.subplot()\n",
    "k_plt.plot(xRange, kazu_data[0:4])\n",
    "k_plt.set(ylabel = 'Time', xlabel = 'Position', title = \"Kazu\")"
   ]
  },
  {
   "cell_type": "code",
   "execution_count": null,
   "metadata": {},
   "outputs": [],
   "source": []
  },
  {
   "cell_type": "code",
   "execution_count": null,
   "metadata": {},
   "outputs": [],
   "source": []
  }
 ],
 "metadata": {
  "kernelspec": {
   "display_name": "Python 3",
   "language": "python",
   "name": "python3"
  },
  "language_info": {
   "codemirror_mode": {
    "name": "ipython",
    "version": 3
   },
   "file_extension": ".py",
   "mimetype": "text/x-python",
   "name": "python",
   "nbconvert_exporter": "python",
   "pygments_lexer": "ipython3",
   "version": "3.7.1"
  }
 },
 "nbformat": 4,
 "nbformat_minor": 2
}
